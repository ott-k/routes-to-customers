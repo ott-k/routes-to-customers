{
 "cells": [
  {
   "cell_type": "code",
   "execution_count": 20,
   "id": "a604dba0",
   "metadata": {},
   "outputs": [],
   "source": [
    "from arcgis.gis import GIS\n",
    "from arcgis.geocoding import batch_geocode, geocode\n",
    "from arcgis.network.analysis import find_routes\n",
    "from arcgis.mapping import WebMap\n",
    "from csv import reader"
   ]
  },
  {
   "cell_type": "code",
   "execution_count": 21,
   "id": "24f5bd11",
   "metadata": {},
   "outputs": [],
   "source": [
    "# Defining a method\n",
    "def check_if_exists(item_fl_name):\n",
    "    \n",
    "    search_result = gis.content.search(query = item_fl_name)\n",
    "\n",
    "    if len(search_result) > 0:\n",
    "\n",
    "        for item in search_result:\n",
    "\n",
    "            item.delete()\n",
    "            print('Deleted existing - ' + str(item_fl_name))\n",
    "\n",
    "    else:\n",
    "\n",
    "        print('No objects named - ' + item_fl_name)"
   ]
  },
  {
   "cell_type": "code",
   "execution_count": 22,
   "id": "5f98892e",
   "metadata": {},
   "outputs": [],
   "source": [
    "gis = GIS(\"pro\")"
   ]
  },
  {
   "cell_type": "code",
   "execution_count": 23,
   "id": "b4db4cb7",
   "metadata": {
    "scrolled": false
   },
   "outputs": [],
   "source": [
    "# Defining folder name\n",
    "project_folder = 'Routes to customers'\n",
    "\n",
    "# Checking if there's already folder with desired name and if it excists it's going to be deleted\n",
    "delete_folder = gis.content.delete_folder(project_folder)\n",
    "\n",
    "# Creating folder for feature layers and webmap\n",
    "create_folder = gis.content.create_folder(folder = project_folder)"
   ]
  },
  {
   "cell_type": "code",
   "execution_count": 24,
   "id": "e6f7ced3",
   "metadata": {},
   "outputs": [],
   "source": [
    "# Creating webmap to where feature layers will be added and what later will be published\n",
    "web_map = WebMap()"
   ]
  },
  {
   "cell_type": "code",
   "execution_count": 25,
   "id": "34a6c4cf",
   "metadata": {},
   "outputs": [
    {
     "name": "stdout",
     "output_type": "stream",
     "text": [
      "No objects named - AlphaGIS location\n"
     ]
    },
    {
     "data": {
      "text/plain": [
       "True"
      ]
     },
     "execution_count": 25,
     "metadata": {},
     "output_type": "execute_result"
    }
   ],
   "source": [
    "# Defining AlphaGIS address\n",
    "alphagis_address = 'Veerenni 40a-63, 10138 Tallinn'\n",
    "\n",
    "# Geocoding AlphaGIS address\n",
    "geocoding_alphagis = geocode(alphagis_address,\n",
    "                             max_locations = 1,\n",
    "                             as_featureset = True)\n",
    "\n",
    "# Defining name of AlphaGIS location feature layer\n",
    "alphagis_fl_name = 'AlphaGIS location'\n",
    "\n",
    "# Checking if feature layer with desired name exists and if it excists it's going to be deleted\n",
    "check_if_exists(alphagis_fl_name)\n",
    "\n",
    "# Creating feature layer from feature set of AlphaGIS geocoded location\n",
    "alphagis_fl = gis.content.import_data(geocoding_alphagis,\n",
    "                                      folder = project_folder,\n",
    "                                      title = alphagis_fl_name)\n",
    "\n",
    "# Adding previously created feature layer to webmap\n",
    "web_map.add_layer(alphagis_fl,\n",
    "                  {'title' : alphagis_fl_name})"
   ]
  },
  {
   "cell_type": "code",
   "execution_count": 26,
   "id": "020492d8",
   "metadata": {},
   "outputs": [
    {
     "name": "stdout",
     "output_type": "stream",
     "text": [
      "No objects named - Kopli OÜ location\n",
      "Find_routes tool finished without errors\n",
      "No objects named - Kopli OÜ route\n",
      "No objects named - Tehas OÜ location\n",
      "Find_routes tool finished without errors\n",
      "No objects named - Tehas OÜ route\n",
      "No objects named - Stroomi OÜ location\n",
      "Find_routes tool finished without errors\n",
      "No objects named - Stroomi OÜ route\n",
      "No objects named - Hippo OÜ location\n",
      "Find_routes tool finished without errors\n",
      "No objects named - Hippo OÜ route\n",
      "No objects named - Löwen OÜ location\n",
      "Find_routes tool finished without errors\n",
      "No objects named - Löwen OÜ route\n",
      "No objects named - Järvi OÜ location\n"
     ]
    },
    {
     "name": "stderr",
     "output_type": "stream",
     "text": [
      "Network elements with avoid-restrictions are traversed in the output (restriction attribute names: \"Through Traffic Prohibited\").\n"
     ]
    },
    {
     "name": "stdout",
     "output_type": "stream",
     "text": [
      "Find_routes tool finished without errors\n",
      "No objects named - Järvi OÜ route\n",
      "No objects named - Nurme OÜ location\n",
      "Find_routes tool finished without errors\n",
      "No objects named - Nurme OÜ route\n",
      "No objects named - Kose OÜ location\n",
      "Find_routes tool finished without errors\n",
      "No objects named - Kose OÜ route\n",
      "No objects named - Lume OÜ location\n",
      "Find_routes tool finished without errors\n",
      "No objects named - Lume OÜ route\n",
      "No objects named - Waldi OÜ location\n",
      "Find_routes tool finished without errors\n",
      "No objects named - Waldi OÜ route\n"
     ]
    }
   ],
   "source": [
    "# Reading CSV file with customer addresses\n",
    "with open('customer_address.csv', 'r', encoding = 'UTF-8', newline = '') as read_csv_file:\n",
    "    \n",
    "    csv_reader = reader(read_csv_file)\n",
    "    \n",
    "    # List of customer names and addresses\n",
    "    rows = list(csv_reader)\n",
    "    \n",
    "    # Iterating trough customer list\n",
    "    for item in rows:\n",
    "        \n",
    "        # Defining customer address\n",
    "        customer_address = ' '.join(item[1:])[1:]\n",
    "        \n",
    "        # Geocoding customer address\n",
    "        geocoding_customer = geocode(customer_address,\n",
    "                                     max_locations = 1,\n",
    "                                     as_featureset = True)\n",
    "        \n",
    "        # Defining name of customer location feature layer\n",
    "        location_fl_name = item[0] + ' location'\n",
    "        \n",
    "        # Checking if feature layer with desired name exists and if it excists it's going to be deleted\n",
    "        check_if_exists(location_fl_name)\n",
    "        \n",
    "        # Creating feature layer from feature set of customer geocoded location\n",
    "        customer_fl = gis.content.import_data(geocoding_customer,\n",
    "                                              folder = project_folder,\n",
    "                                              title = location_fl_name)\n",
    "        \n",
    "        # Adding previously created feature layer to webmap\n",
    "        web_map.add_layer(customer_fl,\n",
    "                          {'title' : location_fl_name})\n",
    "        \n",
    "        # Geocoding customer and AlphaGIS address so that find_routes tool can be used\n",
    "        batch_geocoding = batch_geocode(addresses = [alphagis_address,\n",
    "                                                     customer_address],\n",
    "                                        as_featureset=True)\n",
    "        \n",
    "        # Finding route and distance between customer and AlphaGIS\n",
    "        find_route = find_routes(batch_geocoding)\n",
    "        \n",
    "        # Checking if find_routes tool finished successfully\n",
    "        if find_route.solve_succeeded:\n",
    "            print('Find_routes tool finished without errors')\n",
    "        else:\n",
    "            print('There was error excecuting Find_routes tool')\n",
    "        \n",
    "        # Defining name of route feature layer\n",
    "        route_fl_name = item[0] + ' route'\n",
    "        \n",
    "        # Checking if feature layer with desired name exists and if it excists it's going to be deleted\n",
    "        check_if_exists(route_fl_name)\n",
    "        \n",
    "        # Creating feature layer from feature set of route\n",
    "        route_fl = gis.content.import_data(find_route.output_routes,\n",
    "                                           folder = project_folder,\n",
    "                                           title = route_fl_name)\n",
    "        \n",
    "        # Adding previously created feature layer to webmap\n",
    "        web_map.add_layer(route_fl,\n",
    "                          {'title' : route_fl_name})"
   ]
  },
  {
   "cell_type": "code",
   "execution_count": 27,
   "id": "ee0dfd15",
   "metadata": {},
   "outputs": [
    {
     "name": "stdout",
     "output_type": "stream",
     "text": [
      "No objects named - Customers on map\n"
     ]
    }
   ],
   "source": [
    "# Defining webmap title\n",
    "web_map_title = 'Customers on map'\n",
    "\n",
    "# Defining webmap properties\n",
    "web_map_properties = {'extent' : {'xmin': 24, 'ymin': 59, 'xmax': 26, 'ymax': 60, 'spatialReference': {'wkid': 4326}},\n",
    "                      'title': web_map_title,\n",
    "                      'snippet':'Customer addresses and routes on map',\n",
    "                      'tags':'customers'}\n",
    "\n",
    "# Checking if webmap with desired name exists and if it excists it's going to be deleted\n",
    "check_if_exists(web_map_title)\n",
    "\n",
    "# Saving webmap\n",
    "web_map_item = web_map.save(item_properties = web_map_properties,\n",
    "                            folder = project_folder)"
   ]
  },
  {
   "cell_type": "code",
   "execution_count": null,
   "id": "e5ad34ee",
   "metadata": {},
   "outputs": [],
   "source": []
  }
 ],
 "metadata": {
  "kernelspec": {
   "display_name": "Python 3",
   "language": "python",
   "name": "python3"
  },
  "language_info": {
   "codemirror_mode": {
    "name": "ipython",
    "version": 3
   },
   "file_extension": ".py",
   "mimetype": "text/x-python",
   "name": "python",
   "nbconvert_exporter": "python",
   "pygments_lexer": "ipython3",
   "version": "3.7.11"
  }
 },
 "nbformat": 4,
 "nbformat_minor": 5
}
